{
 "cells": [
  {
   "cell_type": "markdown",
   "metadata": {},
   "source": [
    "# Lambda Code to stop a notebook instance"
   ]
  },
  {
   "cell_type": "code",
   "execution_count": 1,
   "metadata": {},
   "outputs": [],
   "source": [
    "import boto3\n",
    "import logging\n",
    "\n",
    "logger = logging.getLogger()\n",
    "logger.setLevel(logging.INFO)\n"
   ]
  },
  {
   "cell_type": "markdown",
   "metadata": {},
   "source": [
    "Let's check the SageMaker API and see how can we find the instances that are running in the account"
   ]
  },
  {
   "cell_type": "code",
   "execution_count": 10,
   "metadata": {},
   "outputs": [
    {
     "data": {
      "text/plain": [
       "{'NotebookInstances': [{'NotebookInstanceName': 'fastai-with-efs',\n",
       "   'NotebookInstanceArn': 'arn:aws:sagemaker:eu-west-1:217431963147:notebook-instance/fastai-with-efs',\n",
       "   'NotebookInstanceStatus': 'InService',\n",
       "   'Url': 'fastai-with-efs.notebook.eu-west-1.sagemaker.aws',\n",
       "   'InstanceType': 'ml.m4.2xlarge',\n",
       "   'CreationTime': datetime.datetime(2018, 8, 13, 13, 13, 13, 863000, tzinfo=tzlocal()),\n",
       "   'LastModifiedTime': datetime.datetime(2018, 8, 24, 10, 46, 41, 550000, tzinfo=tzlocal()),\n",
       "   'NotebookInstanceLifecycleConfigName': 'MountEFS'}],\n",
       " 'ResponseMetadata': {'RequestId': '3f8ecced-cad7-40ef-8659-42449daf6de4',\n",
       "  'HTTPStatusCode': 200,\n",
       "  'HTTPHeaders': {'x-amzn-requestid': '3f8ecced-cad7-40ef-8659-42449daf6de4',\n",
       "   'content-type': 'application/x-amz-json-1.1',\n",
       "   'content-length': '406',\n",
       "   'date': 'Fri, 24 Aug 2018 15:31:18 GMT'},\n",
       "  'RetryAttempts': 0}}"
      ]
     },
     "execution_count": 10,
     "metadata": {},
     "output_type": "execute_result"
    }
   ],
   "source": [
    "client = boto3.client('sagemaker')\n",
    "    \n",
    "candidates = client.list_notebook_instances()\n",
    "candidates"
   ]
  },
  {
   "cell_type": "markdown",
   "metadata": {},
   "source": [
    "We want to find the name of the instance. It is used to send the stop and start commands"
   ]
  },
  {
   "cell_type": "code",
   "execution_count": 11,
   "metadata": {},
   "outputs": [
    {
     "data": {
      "text/plain": [
       "'fastai-with-efs'"
      ]
     },
     "execution_count": 11,
     "metadata": {},
     "output_type": "execute_result"
    }
   ],
   "source": [
    "for candidate in candidates['NotebookInstances']:\n",
    "    candidateName = candidate['NotebookInstanceName']\n",
    "\n",
    "candidateName"
   ]
  },
  {
   "cell_type": "markdown",
   "metadata": {},
   "source": [
    "To discover the tags of the notebook instances we need to know the ARN of each"
   ]
  },
  {
   "cell_type": "code",
   "execution_count": 12,
   "metadata": {},
   "outputs": [
    {
     "data": {
      "text/plain": [
       "[{'Key': 'Demo', 'Value': 'fastai'}, {'Key': 'InDuty', 'Value': 'Yes'}]"
      ]
     },
     "execution_count": 12,
     "metadata": {},
     "output_type": "execute_result"
    }
   ],
   "source": [
    "instanceArn = candidate['NotebookInstanceArn']\n",
    "instanceTags = client.list_tags(ResourceArn=instanceArn)\n",
    "instanceTags['Tags']"
   ]
  },
  {
   "cell_type": "markdown",
   "metadata": {},
   "source": [
    "We will look for a tag with key of 'InDuty' and a value of 'Yes'"
   ]
  },
  {
   "cell_type": "code",
   "execution_count": 33,
   "metadata": {},
   "outputs": [],
   "source": [
    "for tag in instanceTags['Tags']:\n",
    "    if (tag['Key'] == 'InDuty' and tag['Value'] =='Yes'):\n",
    "        print(\"Found it\")"
   ]
  },
  {
   "cell_type": "markdown",
   "metadata": {},
   "source": [
    "Now we can connect it all together"
   ]
  },
  {
   "cell_type": "code",
   "execution_count": 35,
   "metadata": {},
   "outputs": [],
   "source": [
    "client = boto3.client('sagemaker')\n",
    "    \n",
    "candidates = client.list_notebook_instances()\n",
    "\n",
    "for candidate in candidates['NotebookInstances']:\n",
    "    candidateName = candidate['NotebookInstanceName']\n",
    "    logger.info('instance {0} is in Service'.format(candidateName))\n",
    "    instanceArn = candidate['NotebookInstanceArn']\n",
    "    instanceTags = client.list_tags(ResourceArn=instanceArn)\n",
    "    for tag in instanceTags['Tags']:\n",
    "        if (tag['Key'] == 'InDuty' and tag['Value'] =='Yes'):\n",
    "            logger.info('instance {0} is in duty'.format(candidateName))\n",
    "    #        response = client.stop_notebook_instance(NotebookInstanceName=candidateName)\n",
    "            logger.info('instance {0} was stopped'.format(candidateName))\n",
    "        else:\n",
    "            logger.info('Not in duty'.format(candidateName))\n"
   ]
  },
  {
   "cell_type": "markdown",
   "metadata": {},
   "source": [
    "# Creating a lambda function"
   ]
  },
  {
   "cell_type": "markdown",
   "metadata": {},
   "source": [
    "Using writefile magic command, we will generate the python file to be uploaded to AWS Lambda. Also if you want to append to file you must use -a parameter."
   ]
  },
  {
   "cell_type": "code",
   "execution_count": 2,
   "metadata": {},
   "outputs": [
    {
     "name": "stdout",
     "output_type": "stream",
     "text": [
      "Writing lambda_function.py\n"
     ]
    }
   ],
   "source": [
    "%%writefile lambda_function.py\n",
    "import boto3\n",
    "import logging\n",
    "\n",
    "logger = logging.getLogger()\n",
    "logger.setLevel(logging.INFO)\n",
    "\n",
    "client = boto3.client('sagemaker')\n",
    "\n",
    "def lambda_handler(event, context):\n",
    "    \n",
    "    candidates = client.list_notebook_instances()\n",
    "    \n",
    "    for candidate in candidates['NotebookInstances']:\n",
    "        candidateName = candidate['NotebookInstanceName']\n",
    "        logger.info('instance {0} is in Service'.format(candidateName))\n",
    "        instanceArn = candidate['NotebookInstanceArn']\n",
    "        instanceTags = client.list_tags(ResourceArn=instanceArn)\n",
    "        for tag in instanceTags['Tags']:\n",
    "            if (tag['Key'] == 'InDuty' and tag['Value'] =='Yes'):\n",
    "                logger.info('instance {0} is in duty'.format(candidateName))\n",
    "                if (event['event'] == \"On\"):\n",
    "                    response = client.start_notebook_instance(NotebookInstanceName=candidateName)\n",
    "                    logger.info('instance {0} was started'.format(candidateName))\n",
    "                elif (event['event'] == \"Off\"):\n",
    "                    response = client.stop_notebook_instance(NotebookInstanceName=candidateName)\n",
    "                    logger.info('instance {0} was stopped'.format(candidateName))\n",
    "            else:\n",
    "                logger.info('Not in duty'.format(candidateName))\n",
    "\n",
    "    return \"Done\"\n"
   ]
  },
  {
   "cell_type": "markdown",
   "metadata": {},
   "source": [
    "Adding the lambda function into a zip file (AWS Lambda requires a zip file)"
   ]
  },
  {
   "cell_type": "code",
   "execution_count": 4,
   "metadata": {},
   "outputs": [
    {
     "name": "stdout",
     "output_type": "stream",
     "text": [
      "  adding: lambda_function.py (deflated 68%)\r\n"
     ]
    }
   ],
   "source": [
    "!zip lambda.zip lambda_function.py"
   ]
  },
  {
   "cell_type": "markdown",
   "metadata": {},
   "source": [
    "We can create the bucket and copy the file to it using the awscli or the python SDK. I'll use the aws cli in this example."
   ]
  },
  {
   "cell_type": "code",
   "execution_count": 6,
   "metadata": {},
   "outputs": [
    {
     "name": "stdout",
     "output_type": "stream",
     "text": [
      "make_bucket: terraform-serverless-repository\r\n"
     ]
    }
   ],
   "source": [
    "!aws s3 mb s3://terraform-serverless-repository --region=eu-west-1"
   ]
  },
  {
   "cell_type": "markdown",
   "metadata": {},
   "source": [
    "Uploading the zip file to the bucket"
   ]
  },
  {
   "cell_type": "code",
   "execution_count": 8,
   "metadata": {},
   "outputs": [
    {
     "name": "stdout",
     "output_type": "stream",
     "text": [
      "Completed 593 Bytes/593 Bytes (9.2 KiB/s) with 1 file(s) remaining\r",
      "upload: ./lambda.zip to s3://terraform-serverless-repository/v1.0.0/lambda.zip\r\n"
     ]
    }
   ],
   "source": [
    "!aws s3 cp lambda.zip s3://terraform-serverless-repository/v1.0.0/"
   ]
  },
  {
   "cell_type": "markdown",
   "metadata": {},
   "source": [
    "With the source code artifact built and uploaded to S3, we can now write our Terraform configuration to deploy it. In a new directory, create a file named lambda.tf containing the following configuration:"
   ]
  },
  {
   "cell_type": "code",
   "execution_count": 63,
   "metadata": {},
   "outputs": [
    {
     "name": "stdout",
     "output_type": "stream",
     "text": [
      "Overwriting lambda.tf\n"
     ]
    }
   ],
   "source": [
    "%%writefile lambda.tf\n",
    "provider \"aws\" {\n",
    "  region = \"eu-west-1\"\n",
    "}\n",
    "\n",
    "resource \"aws_lambda_function\" \"start_stop_sm\" {\n",
    "  function_name = \"StopStartSageMakerNotebookInstances\"\n",
    "\n",
    "  # The bucket name as created earlier with \"aws s3api create-bucket\"\n",
    "  s3_bucket = \"terraform-serverless-repository\"\n",
    "  s3_key    = \"v1.0.0/lambda.zip\"\n",
    "\n",
    "  # \"main\" is the filename within the zip file (main.js) and \"handler\"\n",
    "  # is the name of the property under which the handler function was\n",
    "  # exported in that file.\n",
    "  handler = \"lambda_function.lambda_handler\"\n",
    "  runtime = \"python3.6\"\n",
    "\n",
    "  role = \"${aws_iam_role.lambda_exec.arn}\"\n",
    "}"
   ]
  },
  {
   "cell_type": "markdown",
   "metadata": {},
   "source": [
    "# Creating IAM Role"
   ]
  },
  {
   "cell_type": "code",
   "execution_count": 64,
   "metadata": {},
   "outputs": [
    {
     "name": "stdout",
     "output_type": "stream",
     "text": [
      "Appending to lambda.tf\n"
     ]
    }
   ],
   "source": [
    "%%writefile -a lambda.tf\n",
    "# IAM role which dictates what other AWS services the Lambda function\n",
    "# may access.\n",
    "## Testing a working example\n",
    "resource \"aws_iam_role\" \"lambda_exec\" {\n",
    "    name = \"assume-role\"\n",
    "    assume_role_policy = <<EOF\n",
    "{\n",
    "    \"Version\": \"2012-10-17\",\n",
    "    \"Statement\": [\n",
    "        {\n",
    "          \"Action\": \"sts:AssumeRole\",\n",
    "          \"Principal\": {\n",
    "            \"Service\": \"lambda.amazonaws.com\"\n",
    "          },\n",
    "          \"Effect\": \"Allow\",\n",
    "          \"Sid\": \"\"\n",
    "        }\n",
    "      ]\n",
    "    }\n",
    "EOF\n",
    "}\n",
    "\n",
    "resource \"aws_iam_policy\" \"policy\" {\n",
    "    name        = \"control-policy\"\n",
    "    description = \"A policy to control SageMaker instances start/stop state\"\n",
    "    policy = <<EOF\n",
    "{\n",
    "    \"Version\": \"2012-10-17\",\n",
    "    \"Statement\": [\n",
    "        {\n",
    "            \"Sid\": \"CloudWatchLogs0\",\n",
    "            \"Effect\": \"Allow\",\n",
    "            \"Action\": [\n",
    "                \"logs:CreateLogStream\",\n",
    "                \"logs:PutLogEvents\"\n",
    "            ],\n",
    "            \"Resource\": \"arn:aws:logs:eu-west-1:217431963147:log-group:/aws/lambda/*NotebookInstance:*\"\n",
    "        },\n",
    "        {\n",
    "            \"Sid\": \"InstanceControl\",\n",
    "            \"Effect\": \"Allow\",\n",
    "            \"Action\": [\n",
    "                \"sagemaker:ListTags\",\n",
    "                \"ec2:ModifyNetworkInterfaceAttribute\",\n",
    "                \"sagemaker:DescribeNotebookInstance\",\n",
    "                \"ec2:DeleteNetworkInterface\",\n",
    "                \"ec2:DescribeSecurityGroups\",\n",
    "                \"ec2:CreateNetworkInterface\",\n",
    "                \"ec2:DescribeInternetGateways\",\n",
    "                \"ec2:DescribeNetworkInterfaces\",\n",
    "                \"ec2:DescribeAvailabilityZones\",\n",
    "                \"sagemaker:StopNotebookInstance\",\n",
    "                \"ec2:DescribeVpcs\",\n",
    "                \"sagemaker:StartNotebookInstance\",\n",
    "                \"ec2:AttachNetworkInterface\",\n",
    "                \"ec2:DescribeSubnets\",\n",
    "                \"sagemaker:ListNotebookInstances\"\n",
    "            ],\n",
    "            \"Resource\": \"*\"\n",
    "        },\n",
    "        {\n",
    "            \"Sid\": \"CloudWatchLogs1\",\n",
    "            \"Effect\": \"Allow\",\n",
    "            \"Action\": \"logs:CreateLogGroup\",\n",
    "            \"Resource\": \"arn:aws:logs:eu-west-1:217431963147:*\"\n",
    "        }\n",
    "    ]\n",
    "}\n",
    "EOF\n",
    "}\n",
    "\n",
    "resource \"aws_iam_role_policy_attachment\" \"test-attach\" {\n",
    "    role       = \"${aws_iam_role.lambda_exec.name}\"\n",
    "    policy_arn = \"${aws_iam_policy.policy.arn}\"\n",
    "}"
   ]
  },
  {
   "cell_type": "markdown",
   "metadata": {},
   "source": [
    "## Terraform installation"
   ]
  },
  {
   "cell_type": "code",
   "execution_count": 21,
   "metadata": {},
   "outputs": [
    {
     "name": "stdout",
     "output_type": "stream",
     "text": [
      "--2018-08-24 20:39:29--  https://releases.hashicorp.com/terraform/0.11.8/terraform_0.11.8_linux_amd64.zip\n",
      "Resolving releases.hashicorp.com (releases.hashicorp.com)... 151.101.17.183, 2a04:4e42:4::439\n",
      "Connecting to releases.hashicorp.com (releases.hashicorp.com)|151.101.17.183|:443... connected.\n",
      "HTTP request sent, awaiting response... 200 OK\n",
      "Length: 17871447 (17M) [application/zip]\n",
      "Saving to: ‘terraform_0.11.8_linux_amd64.zip’\n",
      "\n",
      "terraform_0.11.8_li 100%[===================>]  17.04M  28.3MB/s    in 0.6s    \n",
      "\n",
      "2018-08-24 20:39:30 (28.3 MB/s) - ‘terraform_0.11.8_linux_amd64.zip’ saved [17871447/17871447]\n",
      "\n"
     ]
    }
   ],
   "source": [
    "!wget https://releases.hashicorp.com/terraform/0.11.8/terraform_0.11.8_linux_amd64.zip"
   ]
  },
  {
   "cell_type": "code",
   "execution_count": 22,
   "metadata": {},
   "outputs": [
    {
     "name": "stdout",
     "output_type": "stream",
     "text": [
      "Archive:  terraform_0.11.8_linux_amd64.zip\n",
      "  inflating: terraform               \n"
     ]
    }
   ],
   "source": [
    "!unzip terraform_0.11.8_linux_amd64.zip"
   ]
  },
  {
   "cell_type": "markdown",
   "metadata": {},
   "source": [
    "Before you can work with a new configuration directory, it must be initialized using terraform init, which in this case will install the AWS provider:"
   ]
  },
  {
   "cell_type": "code",
   "execution_count": 65,
   "metadata": {},
   "outputs": [
    {
     "name": "stdout",
     "output_type": "stream",
     "text": [
      "\n",
      "\u001b[0m\u001b[1mInitializing provider plugins...\u001b[0m\n",
      "\n",
      "The following providers do not have any version constraints in configuration,\n",
      "so the latest version was installed.\n",
      "\n",
      "To prevent automatic upgrades to new major versions that may contain breaking\n",
      "changes, it is recommended to add version = \"...\" constraints to the\n",
      "corresponding provider blocks in configuration, with the constraint strings\n",
      "suggested below.\n",
      "\n",
      "* provider.aws: version = \"~> 1.33\"\n",
      "\n",
      "\u001b[0m\u001b[1m\u001b[32mTerraform has been successfully initialized!\u001b[0m\u001b[32m\u001b[0m\n",
      "\u001b[0m\u001b[32m\n",
      "You may now begin working with Terraform. Try running \"terraform plan\" to see\n",
      "any changes that are required for your infrastructure. All Terraform commands\n",
      "should now work.\n",
      "\n",
      "If you ever set or change modules or backend configuration for Terraform,\n",
      "rerun this command to reinitialize your working directory. If you forget, other\n",
      "commands will detect it and remind you to do so if necessary.\u001b[0m\n"
     ]
    }
   ],
   "source": [
    "!./terraform init"
   ]
  },
  {
   "cell_type": "code",
   "execution_count": 66,
   "metadata": {},
   "outputs": [],
   "source": [
    "!./terraform validate"
   ]
  },
  {
   "cell_type": "code",
   "execution_count": 67,
   "metadata": {},
   "outputs": [
    {
     "name": "stdout",
     "output_type": "stream",
     "text": [
      "\u001b[0m\u001b[1mRefreshing Terraform state in-memory prior to plan...\u001b[0m\n",
      "The refreshed state will be used to calculate this plan, but will not be\n",
      "persisted to local or remote state storage.\n",
      "\u001b[0m\n",
      "\u001b[0m\u001b[1maws_iam_policy.policy: Refreshing state... (ID: arn:aws:iam::217431963147:policy/control-policy)\u001b[0m\n",
      "\n",
      "------------------------------------------------------------------------\n",
      "\n",
      "An execution plan has been generated and is shown below.\n",
      "Resource actions are indicated with the following symbols:\n",
      "  \u001b[32m+\u001b[0m create\n",
      "\u001b[0m\n",
      "Terraform will perform the following actions:\n",
      "\n",
      "\u001b[32m  \u001b[32m+\u001b[0m \u001b[32maws_iam_role.lambda_exec\n",
      "\u001b[0m      id:                    <computed>\n",
      "      arn:                   <computed>\n",
      "      assume_role_policy:    \"{\\n    \\\"Version\\\": \\\"2012-10-17\\\",\\n    \\\"Statement\\\": [\\n        {\\n          \\\"Action\\\": \\\"sts:AssumeRole\\\",\\n          \\\"Principal\\\": {\\n            \\\"Service\\\": \\\"lambda.amazonaws.com\\\"\\n          },\\n          \\\"Effect\\\": \\\"Allow\\\",\\n          \\\"Sid\\\": \\\"\\\"\\n        }\\n      ]\\n    }\\n\"\n",
      "      create_date:           <computed>\n",
      "      force_detach_policies: \"false\"\n",
      "      max_session_duration:  \"3600\"\n",
      "      name:                  \"assume-role\"\n",
      "      path:                  \"/\"\n",
      "      unique_id:             <computed>\n",
      "\u001b[0m\n",
      "\u001b[0m\u001b[32m  \u001b[32m+\u001b[0m \u001b[32maws_iam_role_policy_attachment.test-attach\n",
      "\u001b[0m      id:                    <computed>\n",
      "      policy_arn:            \"arn:aws:iam::217431963147:policy/control-policy\"\n",
      "      role:                  \"assume-role\"\n",
      "\u001b[0m\n",
      "\u001b[0m\u001b[32m  \u001b[32m+\u001b[0m \u001b[32maws_lambda_function.start_stop_sm\n",
      "\u001b[0m      id:                    <computed>\n",
      "      arn:                   <computed>\n",
      "      function_name:         \"StopStartSageMakerNotebookInstances\"\n",
      "      handler:               \"lambda_function.lambda_handler\"\n",
      "      invoke_arn:            <computed>\n",
      "      last_modified:         <computed>\n",
      "      memory_size:           \"128\"\n",
      "      publish:               \"false\"\n",
      "      qualified_arn:         <computed>\n",
      "      role:                  \"${aws_iam_role.lambda_exec.arn}\"\n",
      "      runtime:               \"python3.6\"\n",
      "      s3_bucket:             \"terraform-serverless-repository\"\n",
      "      s3_key:                \"v1.0.0/lambda.zip\"\n",
      "      source_code_hash:      <computed>\n",
      "      source_code_size:      <computed>\n",
      "      timeout:               \"3\"\n",
      "      tracing_config.#:      <computed>\n",
      "      version:               <computed>\n",
      "\u001b[0m\n",
      "\u001b[0m\n",
      "\u001b[0m\u001b[1mPlan:\u001b[0m 3 to add, 0 to change, 0 to destroy.\u001b[0m\n",
      "\n",
      "------------------------------------------------------------------------\n",
      "\n",
      "Note: You didn't specify an \"-out\" parameter to save this plan, so Terraform\n",
      "can't guarantee that exactly these actions will be performed if\n",
      "\"terraform apply\" is subsequently run.\n",
      "\n"
     ]
    }
   ],
   "source": [
    "!./terraform plan"
   ]
  },
  {
   "cell_type": "code",
   "execution_count": 68,
   "metadata": {},
   "outputs": [
    {
     "name": "stdout",
     "output_type": "stream",
     "text": [
      "\u001b[0m\u001b[1maws_iam_policy.policy: Refreshing state... (ID: arn:aws:iam::217431963147:policy/control-policy)\u001b[0m\n",
      "\u001b[0m\u001b[1maws_iam_role.lambda_exec: Creating...\u001b[0m\n",
      "  arn:                   \"\" => \"<computed>\"\n",
      "  assume_role_policy:    \"\" => \"{\\n    \\\"Version\\\": \\\"2012-10-17\\\",\\n    \\\"Statement\\\": [\\n        {\\n          \\\"Action\\\": \\\"sts:AssumeRole\\\",\\n          \\\"Principal\\\": {\\n            \\\"Service\\\": \\\"lambda.amazonaws.com\\\"\\n          },\\n          \\\"Effect\\\": \\\"Allow\\\",\\n          \\\"Sid\\\": \\\"\\\"\\n        }\\n      ]\\n    }\\n\"\n",
      "  create_date:           \"\" => \"<computed>\"\n",
      "  force_detach_policies: \"\" => \"false\"\n",
      "  max_session_duration:  \"\" => \"3600\"\n",
      "  name:                  \"\" => \"assume-role\"\n",
      "  path:                  \"\" => \"/\"\n",
      "  unique_id:             \"\" => \"<computed>\"\u001b[0m\n",
      "\u001b[0m\u001b[1maws_iam_role.lambda_exec: Creation complete after 0s (ID: assume-role)\u001b[0m\u001b[0m\n",
      "\u001b[0m\u001b[1maws_iam_role_policy_attachment.test-attach: Creating...\u001b[0m\n",
      "  policy_arn: \"\" => \"arn:aws:iam::217431963147:policy/control-policy\"\n",
      "  role:       \"\" => \"assume-role\"\u001b[0m\n",
      "\u001b[0m\u001b[1maws_lambda_function.start_stop_sm: Creating...\u001b[0m\n",
      "  arn:              \"\" => \"<computed>\"\n",
      "  function_name:    \"\" => \"StopStartSageMakerNotebookInstances\"\n",
      "  handler:          \"\" => \"lambda_function.lambda_handler\"\n",
      "  invoke_arn:       \"\" => \"<computed>\"\n",
      "  last_modified:    \"\" => \"<computed>\"\n",
      "  memory_size:      \"\" => \"128\"\n",
      "  publish:          \"\" => \"false\"\n",
      "  qualified_arn:    \"\" => \"<computed>\"\n",
      "  role:             \"\" => \"arn:aws:iam::217431963147:role/assume-role\"\n",
      "  runtime:          \"\" => \"python3.6\"\n",
      "  s3_bucket:        \"\" => \"terraform-serverless-repository\"\n",
      "  s3_key:           \"\" => \"v1.0.0/lambda.zip\"\n",
      "  source_code_hash: \"\" => \"<computed>\"\n",
      "  source_code_size: \"\" => \"<computed>\"\n",
      "  timeout:          \"\" => \"3\"\n",
      "  tracing_config.#: \"\" => \"<computed>\"\n",
      "  version:          \"\" => \"<computed>\"\u001b[0m\n",
      "\u001b[0m\u001b[1maws_iam_role_policy_attachment.test-attach: Creation complete after 1s (ID: assume-role-20180825141001678900000001)\u001b[0m\u001b[0m\n",
      "\u001b[0m\u001b[1maws_lambda_function.start_stop_sm: Still creating... (10s elapsed)\u001b[0m\u001b[0m\n",
      "\u001b[0m\u001b[1maws_lambda_function.start_stop_sm: Creation complete after 17s (ID: StopStartSageMakerNotebookInstances)\u001b[0m\u001b[0m\n",
      "\u001b[0m\u001b[1m\u001b[32m\n",
      "Apply complete! Resources: 3 added, 0 changed, 0 destroyed.\u001b[0m\n"
     ]
    }
   ],
   "source": [
    "!./terraform apply -input=false -auto-approve"
   ]
  },
  {
   "cell_type": "code",
   "execution_count": 69,
   "metadata": {},
   "outputs": [
    {
     "name": "stdout",
     "output_type": "stream",
     "text": [
      "{\r\n",
      "    \"Functions\": [\r\n",
      "        {\r\n",
      "            \"FunctionName\": \"StartNotebookInstance\",\r\n",
      "            \"FunctionArn\": \"arn:aws:lambda:eu-west-1:217431963147:function:StartNotebookInstance\",\r\n",
      "            \"Runtime\": \"python3.6\",\r\n",
      "            \"Role\": \"arn:aws:iam::217431963147:role/service-role/StartStopSageMakerInstances\",\r\n",
      "            \"Handler\": \"lambda_function.lambda_handler\",\r\n",
      "            \"CodeSize\": 542,\r\n",
      "            \"Description\": \"\",\r\n",
      "            \"Timeout\": 3,\r\n",
      "            \"MemorySize\": 128,\r\n",
      "            \"LastModified\": \"2018-08-24T14:36:50.195+0000\",\r\n",
      "            \"CodeSha256\": \"cHgIPdy3EnqRNIg1/vRo64u+aDzCUdcbU7Bi4OzSsdw=\",\r\n",
      "            \"Version\": \"$LATEST\",\r\n",
      "            \"VpcConfig\": {\r\n",
      "                \"SubnetIds\": [],\r\n",
      "                \"SecurityGroupIds\": [],\r\n",
      "                \"VpcId\": \"\"\r\n",
      "            },\r\n",
      "            \"TracingConfig\": {\r\n",
      "                \"Mode\": \"PassThrough\"\r\n",
      "            },\r\n",
      "            \"RevisionId\": \"a9f98143-d897-4b99-b001-31e85f56840b\"\r\n",
      "        },\r\n",
      "        {\r\n",
      "            \"FunctionName\": \"StopNotebookInstance\",\r\n",
      "            \"FunctionArn\": \"arn:aws:lambda:eu-west-1:217431963147:function:StopNotebookInstance\",\r\n",
      "            \"Runtime\": \"python3.6\",\r\n",
      "            \"Role\": \"arn:aws:iam::217431963147:role/service-role/StartStopSageMakerInstances\",\r\n",
      "            \"Handler\": \"lambda_function.lambda_handler\",\r\n",
      "            \"CodeSize\": 506,\r\n",
      "            \"Description\": \"\",\r\n",
      "            \"Timeout\": 3,\r\n",
      "            \"MemorySize\": 128,\r\n",
      "            \"LastModified\": \"2018-08-24T10:19:34.880+0000\",\r\n",
      "            \"CodeSha256\": \"qTCHeVSMJsOjq2XPD94JgNaeZn+79PLDNue5S8YVJZ4=\",\r\n",
      "            \"Version\": \"$LATEST\",\r\n",
      "            \"VpcConfig\": {\r\n",
      "                \"SubnetIds\": [],\r\n",
      "                \"SecurityGroupIds\": [],\r\n",
      "                \"VpcId\": \"\"\r\n",
      "            },\r\n",
      "            \"TracingConfig\": {\r\n",
      "                \"Mode\": \"PassThrough\"\r\n",
      "            },\r\n",
      "            \"RevisionId\": \"343b9688-fcaf-4b7e-92ba-793aeefebfef\"\r\n",
      "        },\r\n",
      "        {\r\n",
      "            \"FunctionName\": \"StopStartSageMakerNotebookInstances\",\r\n",
      "            \"FunctionArn\": \"arn:aws:lambda:eu-west-1:217431963147:function:StopStartSageMakerNotebookInstances\",\r\n",
      "            \"Runtime\": \"python3.6\",\r\n",
      "            \"Role\": \"arn:aws:iam::217431963147:role/assume-role\",\r\n",
      "            \"Handler\": \"lambda_function.lambda_handler\",\r\n",
      "            \"CodeSize\": 593,\r\n",
      "            \"Description\": \"\",\r\n",
      "            \"Timeout\": 3,\r\n",
      "            \"MemorySize\": 128,\r\n",
      "            \"LastModified\": \"2018-08-25T14:10:17.450+0000\",\r\n",
      "            \"CodeSha256\": \"dwNSUpqfgdNJLyUQmxEcRTM1IhJwc/Nc0rpUbzYEVn8=\",\r\n",
      "            \"Version\": \"$LATEST\",\r\n",
      "            \"TracingConfig\": {\r\n",
      "                \"Mode\": \"PassThrough\"\r\n",
      "            },\r\n",
      "            \"RevisionId\": \"2125672a-0d11-4ec0-a8a4-7c237c22ed4e\"\r\n",
      "        }\r\n",
      "    ]\r\n",
      "}\r\n"
     ]
    }
   ],
   "source": [
    "!aws lambda list-functions"
   ]
  },
  {
   "cell_type": "code",
   "execution_count": 77,
   "metadata": {},
   "outputs": [
    {
     "name": "stdout",
     "output_type": "stream",
     "text": [
      "START RequestId: 4e8c3655-a872-11e8-a36c-296fe0514407 Version: $LATEST\r\n",
      "[INFO]\t2018-08-25T14:22:33.251Z\t4e8c3655-a872-11e8-a36c-296fe0514407\tResetting dropped connection: sagemaker.eu-west-1.amazonaws.com\r\n",
      "[INFO]\t2018-08-25T14:22:33.411Z\t4e8c3655-a872-11e8-a36c-296fe0514407\tinstance fastai-with-efs is in Service\r\n",
      "[INFO]\t2018-08-25T14:22:33.520Z\t4e8c3655-a872-11e8-a36c-296fe0514407\tNot in duty\r\n",
      "[INFO]\t2018-08-25T14:22:33.522Z\t4e8c3655-a872-11e8-a36c-296fe0514407\tinstance fastai-with-efs is in duty\r\n",
      "An error occurred (ValidationException) when calling the StartNotebookInstance operation: Status (InService) not in ([Stopped, Failed]). Unable to transition to (Pending) for Notebook Instance (arn:aws:sagemaker:eu-west-1:217431963147:notebook-instance/fastai-with-efs).: ClientError\r\n",
      "Traceback (most recent call last):\r\n",
      "  File \"/var/task/lambda_function.py\", line 22, in lambda_handler\r\n",
      "    response = client.start_notebook_instance(NotebookInstanceName=candidateName)\r\n",
      "  File \"/var/runtime/botocore/client.py\", line 314, in _api_call\r\n",
      "    return self._make_api_call(operation_name, kwargs)\r\n",
      "  File \"/var/runtime/botocore/client.py\", line 612, in _make_api_call\r\n",
      "    raise error_class(parsed_response, operation_name)\r\n",
      "botocore.exceptions.ClientError: An error occurred (ValidationException) when calling the StartNotebookInstance operation: Status (InService) not in ([Stopped, Failed]). Unable to transition to (Pending) for Notebook Instance (arn:aws:sagemaker:eu-west-1:217431963147:notebook-instance/fastai-with-efs).\r\n",
      "\r\n",
      "END RequestId: 4e8c3655-a872-11e8-a36c-296fe0514407\r\n",
      "REPORT RequestId: 4e8c3655-a872-11e8-a36c-296fe0514407\tDuration: 433.76 ms\tBilled Duration: 500 ms \tMemory Size: 128 MB\tMax Memory Used: 40 MB\t\r\n"
     ]
    }
   ],
   "source": [
    "!aws lambda invoke --function-name StopStartSageMakerNotebookInstances \\\n",
    "    --payload '{\"event\":\"On\"}' \\\n",
    "    --invocation-type RequestResponse \\\n",
    "    --log-type Tail /dev/null | jq -r '.LogResult' | base64 --decode"
   ]
  },
  {
   "cell_type": "markdown",
   "metadata": {},
   "source": [
    "## Adding CloudWatch events"
   ]
  },
  {
   "cell_type": "markdown",
   "metadata": {},
   "source": [
    "We will create two CloudWatch events, one for the start of the working day and one for its end. They will run using cron that we will set the schedule of the office that we cover with it. Both events will call the same Lambda function that we defined above, but each will send a different constant event, one with \"On\" and the other with \"Off\""
   ]
  },
  {
   "cell_type": "code",
   "execution_count": 91,
   "metadata": {},
   "outputs": [
    {
     "name": "stdout",
     "output_type": "stream",
     "text": [
      "Overwriting cloud_watch.tf\n"
     ]
    }
   ],
   "source": [
    "%%writefile cloud_watch.tf\n",
    "## Based on the location of the instances. This is for Israel where \n",
    "## people are working Sunday to Thursday and 5AM GTM is 8AM\n",
    "resource \"aws_cloudwatch_event_rule\" \"on_duty\" {\n",
    "    name = \"on_duty\"\n",
    "    description = \"Fires at the beginning of the working day\"\n",
    "    schedule_expression = \"cron(0 5 ? * SUN-THU *)\"\n",
    "}\n",
    "\n",
    "## people are working Sunday to Thursday and 4PM GTM is 7PM\n",
    "resource \"aws_cloudwatch_event_rule\" \"off_duty\" {\n",
    "    name = \"off_duty\"\n",
    "    description = \"Fires at the end of the working day\"\n",
    "    schedule_expression = \"cron(0 16 ? * SUN-THU *)\"\n",
    "}\n",
    "\n",
    "resource \"aws_cloudwatch_event_target\" \"on_duty_start_instances\" {\n",
    "    rule = \"${aws_cloudwatch_event_rule.on_duty.name}\"\n",
    "    target_id = \"start_stop_sm\"\n",
    "    arn = \"${aws_lambda_function.start_stop_sm.arn}\"\n",
    "    input = <<DOC\n",
    "{\n",
    "  \"event\": \"On\"\n",
    "}\n",
    "DOC\n",
    "}\n",
    "\n",
    "resource \"aws_cloudwatch_event_target\" \"off_duty_start_instances\" {\n",
    "    rule = \"${aws_cloudwatch_event_rule.off_duty.name}\"\n",
    "    target_id = \"start_stop_sm\"\n",
    "    arn = \"${aws_lambda_function.start_stop_sm.arn}\"\n",
    "    input = <<DOC\n",
    "{\n",
    "  \"event\": \"Off\"\n",
    "}\n",
    "DOC\n",
    "}\n",
    "\n",
    "resource \"aws_lambda_permission\" \"allow_cloudwatch_to_call_On_duty\" {\n",
    "    statement_id = \"AllowExecutionFromCloudWatchOn\"\n",
    "    action = \"lambda:InvokeFunction\"\n",
    "    function_name = \"${aws_lambda_function.start_stop_sm.function_name}\"\n",
    "    principal = \"events.amazonaws.com\"\n",
    "    source_arn = \"${aws_cloudwatch_event_rule.on_duty.arn}\"\n",
    "}\n",
    "\n",
    "resource \"aws_lambda_permission\" \"allow_cloudwatch_to_call_Off_duty\" {\n",
    "    statement_id = \"AllowExecutionFromCloudWatchOff\"\n",
    "    action = \"lambda:InvokeFunction\"\n",
    "    function_name = \"${aws_lambda_function.start_stop_sm.function_name}\"\n",
    "    principal = \"events.amazonaws.com\"\n",
    "    source_arn = \"${aws_cloudwatch_event_rule.off_duty.arn}\"\n",
    "}"
   ]
  },
  {
   "cell_type": "markdown",
   "metadata": {},
   "source": [
    "Now we can update our environment with the new configuration using Terraform apply command"
   ]
  },
  {
   "cell_type": "code",
   "execution_count": 92,
   "metadata": {},
   "outputs": [
    {
     "name": "stdout",
     "output_type": "stream",
     "text": [
      "\u001b[0m\u001b[1maws_iam_policy.policy: Refreshing state... (ID: arn:aws:iam::217431963147:policy/control-policy)\u001b[0m\n",
      "\u001b[0m\u001b[1maws_iam_role.lambda_exec: Refreshing state... (ID: assume-role)\u001b[0m\n",
      "\u001b[0m\u001b[1maws_cloudwatch_event_rule.on_duty: Refreshing state... (ID: on_duty)\u001b[0m\n",
      "\u001b[0m\u001b[1maws_lambda_function.start_stop_sm: Refreshing state... (ID: StopStartSageMakerNotebookInstances)\u001b[0m\n",
      "\u001b[0m\u001b[1maws_lambda_permission.allow_cloudwatch_to_call_On_duty: Refreshing state... (ID: AllowExecutionFromCloudWatch)\u001b[0m\n",
      "\u001b[0m\u001b[1maws_cloudwatch_event_target.on_duty_start_instances: Refreshing state... (ID: on_duty-start_stop_sm)\u001b[0m\n",
      "\u001b[0m\u001b[1maws_iam_role_policy_attachment.test-attach: Refreshing state... (ID: assume-role-20180825141001678900000001)\u001b[0m\n",
      "\u001b[0m\u001b[1maws_lambda_permission.allow_cloudwatch_to_call_On_duty: Destroying... (ID: AllowExecutionFromCloudWatch)\u001b[0m\u001b[0m\n",
      "\u001b[0m\u001b[1maws_cloudwatch_event_rule.off_duty: Creating...\u001b[0m\n",
      "  arn:                 \"\" => \"<computed>\"\n",
      "  description:         \"\" => \"Fires at the end of the working day\"\n",
      "  is_enabled:          \"\" => \"true\"\n",
      "  name:                \"\" => \"off_duty\"\n",
      "  schedule_expression: \"\" => \"cron(0 16 ? * SUN-THU *)\"\u001b[0m\n",
      "\u001b[0m\u001b[1maws_lambda_permission.allow_cloudwatch_to_call_On_duty: Destruction complete after 0s\u001b[0m\u001b[0m\n",
      "\u001b[0m\u001b[1maws_cloudwatch_event_rule.off_duty: Creation complete after 0s (ID: off_duty)\u001b[0m\u001b[0m\n",
      "\u001b[0m\u001b[1maws_cloudwatch_event_target.off_duty_start_instances: Creating...\u001b[0m\n",
      "  arn:       \"\" => \"arn:aws:lambda:eu-west-1:217431963147:function:StopStartSageMakerNotebookInstances\"\n",
      "  input:     \"\" => \"{\\n  \\\"event\\\": \\\"Off\\\"\\n}\\n\"\n",
      "  rule:      \"\" => \"off_duty\"\n",
      "  target_id: \"\" => \"start_stop_sm\"\u001b[0m\n",
      "\u001b[0m\u001b[1maws_lambda_permission.allow_cloudwatch_to_call_Off_duty: Creating...\u001b[0m\n",
      "  action:        \"\" => \"lambda:InvokeFunction\"\n",
      "  function_name: \"\" => \"StopStartSageMakerNotebookInstances\"\n",
      "  principal:     \"\" => \"events.amazonaws.com\"\n",
      "  source_arn:    \"\" => \"arn:aws:events:eu-west-1:217431963147:rule/off_duty\"\n",
      "  statement_id:  \"\" => \"AllowExecutionFromCloudWatchOff\"\u001b[0m\n",
      "\u001b[0m\u001b[1maws_lambda_permission.allow_cloudwatch_to_call_On_duty: Creating...\u001b[0m\n",
      "  action:        \"\" => \"lambda:InvokeFunction\"\n",
      "  function_name: \"\" => \"StopStartSageMakerNotebookInstances\"\n",
      "  principal:     \"\" => \"events.amazonaws.com\"\n",
      "  source_arn:    \"\" => \"arn:aws:events:eu-west-1:217431963147:rule/on_duty\"\n",
      "  statement_id:  \"\" => \"AllowExecutionFromCloudWatchOn\"\u001b[0m\n",
      "\u001b[0m\u001b[1maws_cloudwatch_event_target.off_duty_start_instances: Creation complete after 0s (ID: off_duty-start_stop_sm)\u001b[0m\u001b[0m\n",
      "\u001b[0m\u001b[1maws_lambda_permission.allow_cloudwatch_to_call_On_duty: Creation complete after 0s (ID: AllowExecutionFromCloudWatchOn)\u001b[0m\u001b[0m\n",
      "\u001b[0m\u001b[1maws_lambda_permission.allow_cloudwatch_to_call_Off_duty: Creation complete after 0s (ID: AllowExecutionFromCloudWatchOff)\u001b[0m\u001b[0m\n",
      "\u001b[0m\u001b[1m\u001b[32m\n",
      "Apply complete! Resources: 4 added, 0 changed, 1 destroyed.\u001b[0m\n"
     ]
    }
   ],
   "source": [
    "!./terraform apply -input=false -auto-approve"
   ]
  },
  {
   "cell_type": "code",
   "execution_count": null,
   "metadata": {},
   "outputs": [],
   "source": []
  }
 ],
 "metadata": {
  "kernelspec": {
   "display_name": "conda_python3",
   "language": "python",
   "name": "conda_python3"
  },
  "language_info": {
   "codemirror_mode": {
    "name": "ipython",
    "version": 3
   },
   "file_extension": ".py",
   "mimetype": "text/x-python",
   "name": "python",
   "nbconvert_exporter": "python",
   "pygments_lexer": "ipython3",
   "version": "3.6.4"
  }
 },
 "nbformat": 4,
 "nbformat_minor": 2
}
