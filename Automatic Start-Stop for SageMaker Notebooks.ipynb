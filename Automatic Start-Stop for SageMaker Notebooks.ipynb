{
 "cells": [
  {
   "cell_type": "markdown",
   "metadata": {},
   "source": [
    "# Lambda Code to stop a notebook instance"
   ]
  },
  {
   "cell_type": "code",
   "execution_count": 1,
   "metadata": {},
   "outputs": [],
   "source": [
    "import boto3\n",
    "import logging\n",
    "\n",
    "logger = logging.getLogger()\n",
    "logger.setLevel(logging.INFO)\n"
   ]
  },
  {
   "cell_type": "markdown",
   "metadata": {},
   "source": [
    "Let's check the SageMaker API and see how can we find the instances that are running in the account"
   ]
  },
  {
   "cell_type": "code",
   "execution_count": 10,
   "metadata": {},
   "outputs": [
    {
     "data": {
      "text/plain": [
       "{'NotebookInstances': [{'NotebookInstanceName': 'fastai-with-efs',\n",
       "   'NotebookInstanceArn': 'arn:aws:sagemaker:eu-west-1:217431963147:notebook-instance/fastai-with-efs',\n",
       "   'NotebookInstanceStatus': 'InService',\n",
       "   'Url': 'fastai-with-efs.notebook.eu-west-1.sagemaker.aws',\n",
       "   'InstanceType': 'ml.m4.2xlarge',\n",
       "   'CreationTime': datetime.datetime(2018, 8, 13, 13, 13, 13, 863000, tzinfo=tzlocal()),\n",
       "   'LastModifiedTime': datetime.datetime(2018, 8, 24, 10, 46, 41, 550000, tzinfo=tzlocal()),\n",
       "   'NotebookInstanceLifecycleConfigName': 'MountEFS'}],\n",
       " 'ResponseMetadata': {'RequestId': '3f8ecced-cad7-40ef-8659-42449daf6de4',\n",
       "  'HTTPStatusCode': 200,\n",
       "  'HTTPHeaders': {'x-amzn-requestid': '3f8ecced-cad7-40ef-8659-42449daf6de4',\n",
       "   'content-type': 'application/x-amz-json-1.1',\n",
       "   'content-length': '406',\n",
       "   'date': 'Fri, 24 Aug 2018 15:31:18 GMT'},\n",
       "  'RetryAttempts': 0}}"
      ]
     },
     "execution_count": 10,
     "metadata": {},
     "output_type": "execute_result"
    }
   ],
   "source": [
    "client = boto3.client('sagemaker')\n",
    "    \n",
    "candidates = client.list_notebook_instances()\n",
    "candidates"
   ]
  },
  {
   "cell_type": "markdown",
   "metadata": {},
   "source": [
    "We want to find the name of the instance. It is used to send the stop and start commands"
   ]
  },
  {
   "cell_type": "code",
   "execution_count": 11,
   "metadata": {},
   "outputs": [
    {
     "data": {
      "text/plain": [
       "'fastai-with-efs'"
      ]
     },
     "execution_count": 11,
     "metadata": {},
     "output_type": "execute_result"
    }
   ],
   "source": [
    "for candidate in candidates['NotebookInstances']:\n",
    "    candidateName = candidate['NotebookInstanceName']\n",
    "\n",
    "candidateName"
   ]
  },
  {
   "cell_type": "markdown",
   "metadata": {},
   "source": [
    "To discover the tags of the notebook instances we need to know the ARN of each"
   ]
  },
  {
   "cell_type": "code",
   "execution_count": 12,
   "metadata": {},
   "outputs": [
    {
     "data": {
      "text/plain": [
       "[{'Key': 'Demo', 'Value': 'fastai'}, {'Key': 'InDuty', 'Value': 'Yes'}]"
      ]
     },
     "execution_count": 12,
     "metadata": {},
     "output_type": "execute_result"
    }
   ],
   "source": [
    "instanceArn = candidate['NotebookInstanceArn']\n",
    "instanceTags = client.list_tags(ResourceArn=instanceArn)\n",
    "instanceTags['Tags']"
   ]
  },
  {
   "cell_type": "markdown",
   "metadata": {},
   "source": [
    "We will look for a tag with key of 'InDuty' and a value of 'Yes'"
   ]
  },
  {
   "cell_type": "code",
   "execution_count": 33,
   "metadata": {},
   "outputs": [],
   "source": [
    "for tag in instanceTags['Tags']:\n",
    "    if (tag['Key'] == 'InDuty' and tag['Value'] =='Yes'):\n",
    "        print(\"Found it\")"
   ]
  },
  {
   "cell_type": "markdown",
   "metadata": {},
   "source": [
    "Now we can connect it all together"
   ]
  },
  {
   "cell_type": "code",
   "execution_count": 35,
   "metadata": {},
   "outputs": [],
   "source": [
    "client = boto3.client('sagemaker')\n",
    "    \n",
    "candidates = client.list_notebook_instances()\n",
    "\n",
    "for candidate in candidates['NotebookInstances']:\n",
    "    candidateName = candidate['NotebookInstanceName']\n",
    "    logger.info('instance {0} is in Service'.format(candidateName))\n",
    "    instanceArn = candidate['NotebookInstanceArn']\n",
    "    instanceTags = client.list_tags(ResourceArn=instanceArn)\n",
    "    for tag in instanceTags['Tags']:\n",
    "        if (tag['Key'] == 'InDuty' and tag['Value'] =='Yes'):\n",
    "            logger.info('instance {0} is in duty'.format(candidateName))\n",
    "    #        response = client.stop_notebook_instance(NotebookInstanceName=candidateName)\n",
    "            logger.info('instance {0} was stopped'.format(candidateName))\n",
    "        else:\n",
    "            logger.info('Not in duty'.format(candidateName))\n"
   ]
  },
  {
   "cell_type": "markdown",
   "metadata": {},
   "source": [
    "# Creating a lambda function"
   ]
  },
  {
   "cell_type": "markdown",
   "metadata": {},
   "source": [
    "Using writefile magic command, we will generate the python file to be uploaded to AWS Lambda. Also if you want to append to file you must use -a parameter."
   ]
  },
  {
   "cell_type": "code",
   "execution_count": 2,
   "metadata": {},
   "outputs": [
    {
     "name": "stdout",
     "output_type": "stream",
     "text": [
      "Writing lambda_function.py\n"
     ]
    }
   ],
   "source": [
    "%%writefile lambda_function.py\n",
    "import boto3\n",
    "import logging\n",
    "\n",
    "logger = logging.getLogger()\n",
    "logger.setLevel(logging.INFO)\n",
    "\n",
    "client = boto3.client('sagemaker')\n",
    "\n",
    "def lambda_handler(event, context):\n",
    "    \n",
    "    candidates = client.list_notebook_instances()\n",
    "    \n",
    "    for candidate in candidates['NotebookInstances']:\n",
    "        candidateName = candidate['NotebookInstanceName']\n",
    "        logger.info('instance {0} is in Service'.format(candidateName))\n",
    "        instanceArn = candidate['NotebookInstanceArn']\n",
    "        instanceTags = client.list_tags(ResourceArn=instanceArn)\n",
    "        for tag in instanceTags['Tags']:\n",
    "            if (tag['Key'] == 'InDuty' and tag['Value'] =='Yes'):\n",
    "                logger.info('instance {0} is in duty'.format(candidateName))\n",
    "                if (event['event'] == \"On\"):\n",
    "                    response = client.start_notebook_instance(NotebookInstanceName=candidateName)\n",
    "                    logger.info('instance {0} was started'.format(candidateName))\n",
    "                elif (event['event'] == \"Off\"):\n",
    "                    response = client.stop_notebook_instance(NotebookInstanceName=candidateName)\n",
    "                    logger.info('instance {0} was stopped'.format(candidateName))\n",
    "            else:\n",
    "                logger.info('Not in duty'.format(candidateName))\n",
    "\n",
    "    return \"Done\"\n"
   ]
  },
  {
   "cell_type": "markdown",
   "metadata": {},
   "source": [
    "Adding the lambda function into a zip file (AWS Lambda requires a zip file)"
   ]
  },
  {
   "cell_type": "code",
   "execution_count": 4,
   "metadata": {},
   "outputs": [
    {
     "name": "stdout",
     "output_type": "stream",
     "text": [
      "  adding: lambda_function.py (deflated 68%)\r\n"
     ]
    }
   ],
   "source": [
    "!zip lambda.zip lambda_function.py"
   ]
  },
  {
   "cell_type": "markdown",
   "metadata": {},
   "source": [
    "We can create the bucket and copy the file to it using the awscli or the python SDK. I'll use the aws cli in this example."
   ]
  },
  {
   "cell_type": "code",
   "execution_count": 6,
   "metadata": {},
   "outputs": [
    {
     "name": "stdout",
     "output_type": "stream",
     "text": [
      "make_bucket: terraform-serverless-repository\r\n"
     ]
    }
   ],
   "source": [
    "!aws s3 mb s3://terraform-serverless-repository --region=eu-west-1"
   ]
  },
  {
   "cell_type": "markdown",
   "metadata": {},
   "source": [
    "Uploading the zip file to the bucket"
   ]
  },
  {
   "cell_type": "code",
   "execution_count": 8,
   "metadata": {},
   "outputs": [
    {
     "name": "stdout",
     "output_type": "stream",
     "text": [
      "Completed 593 Bytes/593 Bytes (9.2 KiB/s) with 1 file(s) remaining\r",
      "upload: ./lambda.zip to s3://terraform-serverless-repository/v1.0.0/lambda.zip\r\n"
     ]
    }
   ],
   "source": [
    "!aws s3 cp lambda.zip s3://terraform-serverless-repository/v1.0.0/"
   ]
  },
  {
   "cell_type": "markdown",
   "metadata": {},
   "source": [
    "With the source code artifact built and uploaded to S3, we can now write our Terraform configuration to deploy it. In a new directory, create a file named lambda.tf containing the following configuration:"
   ]
  },
  {
   "cell_type": "code",
   "execution_count": 25,
   "metadata": {},
   "outputs": [
    {
     "name": "stdout",
     "output_type": "stream",
     "text": [
      "Overwriting lambda.tf\n"
     ]
    }
   ],
   "source": [
    "%%writefile lambda.tf\n",
    "provider \"aws\" {\n",
    "  region = \"us-east-1\"\n",
    "}\n",
    "\n",
    "resource \"aws_lambda_function\" \"examlpe\" {\n",
    "  function_name = \"StopStartSageMakerNotebookInstances\"\n",
    "\n",
    "  # The bucket name as created earlier with \"aws s3api create-bucket\"\n",
    "  s3_bucket = \"terraform-serverless-repository\"\n",
    "  s3_key    = \"v1.0.0/lambda.zip\"\n",
    "\n",
    "  # \"main\" is the filename within the zip file (main.js) and \"handler\"\n",
    "  # is the name of the property under which the handler function was\n",
    "  # exported in that file.\n",
    "  handler = \"lambda_function.lambda_handler\"\n",
    "  runtime = \"Python3.6\"\n",
    "\n",
    "  role = \"${aws_iam_role.lambda_exec.arn}\"\n",
    "}\n",
    "\n"
   ]
  },
  {
   "cell_type": "markdown",
   "metadata": {},
   "source": [
    "# Creating IAM Role"
   ]
  },
  {
   "cell_type": "code",
   "execution_count": 26,
   "metadata": {},
   "outputs": [
    {
     "name": "stdout",
     "output_type": "stream",
     "text": [
      "Appending to lambda.tf\n"
     ]
    }
   ],
   "source": [
    "%%writefile -a lambda.tf\n",
    "# IAM role which dictates what other AWS services the Lambda function\n",
    "# may access.\n",
    "resource \"aws_iam_role\" \"lambda_exec\" {\n",
    "  name = \"serverless_example_lambda\"\n",
    "\n",
    "  assume_role_policy = <<EOF\n",
    "{\n",
    "    \"Version\": \"2012-10-17\",\n",
    "    \"Statement\": [\n",
    "        {\n",
    "            \"Sid\": \"CloudWatchLogs0\",\n",
    "            \"Effect\": \"Allow\",\n",
    "            \"Action\": [\n",
    "                \"logs:CreateLogStream\",\n",
    "                \"logs:PutLogEvents\"\n",
    "            ],\n",
    "            \"Resource\": \"arn:aws:logs:eu-west-1:217431963147:log-group:/aws/lambda/*NotebookInstance:*\"\n",
    "        },\n",
    "        {\n",
    "            \"Sid\": \"InstanceControl\",\n",
    "            \"Effect\": \"Allow\",\n",
    "            \"Action\": [\n",
    "                \"sagemaker:ListTags\",\n",
    "                \"ec2:ModifyNetworkInterfaceAttribute\",\n",
    "                \"sagemaker:DescribeNotebookInstance\",\n",
    "                \"ec2:DeleteNetworkInterface\",\n",
    "                \"ec2:DescribeSecurityGroups\",\n",
    "                \"ec2:CreateNetworkInterface\",\n",
    "                \"ec2:DescribeInternetGateways\",\n",
    "                \"ec2:DescribeNetworkInterfaces\",\n",
    "                \"ec2:DescribeAvailabilityZones\",\n",
    "                \"sagemaker:StopNotebookInstance\",\n",
    "                \"ec2:DescribeVpcs\",\n",
    "                \"sagemaker:StartNotebookInstance\",\n",
    "                \"ec2:AttachNetworkInterface\",\n",
    "                \"ec2:DescribeSubnets\",\n",
    "                \"sagemaker:ListNotebookInstances\"\n",
    "            ],\n",
    "            \"Resource\": \"*\"\n",
    "        },\n",
    "        {\n",
    "            \"Sid\": \"CloudWatchLogs1\",\n",
    "            \"Effect\": \"Allow\",\n",
    "            \"Action\": \"logs:CreateLogGroup\",\n",
    "            \"Resource\": \"arn:aws:logs:eu-west-1:217431963147:*\"\n",
    "        }\n",
    "    ]\n",
    "}\n",
    "EOF\n",
    "}"
   ]
  },
  {
   "cell_type": "markdown",
   "metadata": {},
   "source": [
    "## Terraform installation"
   ]
  },
  {
   "cell_type": "code",
   "execution_count": 21,
   "metadata": {},
   "outputs": [
    {
     "name": "stdout",
     "output_type": "stream",
     "text": [
      "--2018-08-24 20:39:29--  https://releases.hashicorp.com/terraform/0.11.8/terraform_0.11.8_linux_amd64.zip\n",
      "Resolving releases.hashicorp.com (releases.hashicorp.com)... 151.101.17.183, 2a04:4e42:4::439\n",
      "Connecting to releases.hashicorp.com (releases.hashicorp.com)|151.101.17.183|:443... connected.\n",
      "HTTP request sent, awaiting response... 200 OK\n",
      "Length: 17871447 (17M) [application/zip]\n",
      "Saving to: ‘terraform_0.11.8_linux_amd64.zip’\n",
      "\n",
      "terraform_0.11.8_li 100%[===================>]  17.04M  28.3MB/s    in 0.6s    \n",
      "\n",
      "2018-08-24 20:39:30 (28.3 MB/s) - ‘terraform_0.11.8_linux_amd64.zip’ saved [17871447/17871447]\n",
      "\n"
     ]
    }
   ],
   "source": [
    "!wget https://releases.hashicorp.com/terraform/0.11.8/terraform_0.11.8_linux_amd64.zip"
   ]
  },
  {
   "cell_type": "code",
   "execution_count": 22,
   "metadata": {},
   "outputs": [
    {
     "name": "stdout",
     "output_type": "stream",
     "text": [
      "Archive:  terraform_0.11.8_linux_amd64.zip\n",
      "  inflating: terraform               \n"
     ]
    }
   ],
   "source": [
    "!unzip terraform_0.11.8_linux_amd64.zip"
   ]
  },
  {
   "cell_type": "markdown",
   "metadata": {},
   "source": [
    "Before you can work with a new configuration directory, it must be initialized using terraform init, which in this case will install the AWS provider:"
   ]
  },
  {
   "cell_type": "code",
   "execution_count": 24,
   "metadata": {},
   "outputs": [
    {
     "name": "stdout",
     "output_type": "stream",
     "text": [
      "\n",
      "\u001b[0m\u001b[1mInitializing provider plugins...\u001b[0m\n",
      "- Checking for available provider plugins on https://releases.hashicorp.com...\n",
      "- Downloading plugin for provider \"aws\" (1.33.0)...\n",
      "\n",
      "The following providers do not have any version constraints in configuration,\n",
      "so the latest version was installed.\n",
      "\n",
      "To prevent automatic upgrades to new major versions that may contain breaking\n",
      "changes, it is recommended to add version = \"...\" constraints to the\n",
      "corresponding provider blocks in configuration, with the constraint strings\n",
      "suggested below.\n",
      "\n",
      "* provider.aws: version = \"~> 1.33\"\n",
      "\n",
      "\u001b[0m\u001b[1m\u001b[32mTerraform has been successfully initialized!\u001b[0m\u001b[32m\u001b[0m\n",
      "\u001b[0m\u001b[32m\n",
      "You may now begin working with Terraform. Try running \"terraform plan\" to see\n",
      "any changes that are required for your infrastructure. All Terraform commands\n",
      "should now work.\n",
      "\n",
      "If you ever set or change modules or backend configuration for Terraform,\n",
      "rerun this command to reinitialize your working directory. If you forget, other\n",
      "commands will detect it and remind you to do so if necessary.\u001b[0m\n"
     ]
    }
   ],
   "source": [
    "!./terraform init\n"
   ]
  },
  {
   "cell_type": "code",
   "execution_count": null,
   "metadata": {},
   "outputs": [],
   "source": []
  }
 ],
 "metadata": {
  "kernelspec": {
   "display_name": "conda_python3",
   "language": "python",
   "name": "conda_python3"
  },
  "language_info": {
   "codemirror_mode": {
    "name": "ipython",
    "version": 3
   },
   "file_extension": ".py",
   "mimetype": "text/x-python",
   "name": "python",
   "nbconvert_exporter": "python",
   "pygments_lexer": "ipython3",
   "version": "3.6.4"
  }
 },
 "nbformat": 4,
 "nbformat_minor": 2
}
