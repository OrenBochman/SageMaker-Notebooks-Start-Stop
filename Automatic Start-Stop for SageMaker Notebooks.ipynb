{
 "cells": [
  {
   "cell_type": "markdown",
   "metadata": {},
   "source": [
    "# Lambda Code to stop a notebook instance"
   ]
  },
  {
   "cell_type": "code",
   "execution_count": 1,
   "metadata": {},
   "outputs": [],
   "source": [
    "import boto3\n",
    "import logging\n",
    "\n",
    "logger = logging.getLogger()\n",
    "logger.setLevel(logging.INFO)\n"
   ]
  },
  {
   "cell_type": "markdown",
   "metadata": {},
   "source": [
    "Let's check the SageMaker API and see how can we find the instances that are running in the account"
   ]
  },
  {
   "cell_type": "code",
   "execution_count": 17,
   "metadata": {},
   "outputs": [
    {
     "data": {
      "text/plain": [
       "{'NotebookInstances': [{'NotebookInstanceName': 'fastai-with-efs',\n",
       "   'NotebookInstanceArn': 'arn:aws:sagemaker:eu-west-1:217431963147:notebook-instance/fastai-with-efs',\n",
       "   'NotebookInstanceStatus': 'InService',\n",
       "   'Url': 'fastai-with-efs.notebook.eu-west-1.sagemaker.aws',\n",
       "   'InstanceType': 'ml.m4.2xlarge',\n",
       "   'CreationTime': datetime.datetime(2018, 8, 13, 13, 13, 13, 863000, tzinfo=tzlocal()),\n",
       "   'LastModifiedTime': datetime.datetime(2018, 8, 23, 7, 54, 9, 838000, tzinfo=tzlocal()),\n",
       "   'NotebookInstanceLifecycleConfigName': 'MountEFS'}],\n",
       " 'ResponseMetadata': {'RequestId': 'ab00e2a4-25b3-4d32-b770-fc4cea6d7111',\n",
       "  'HTTPStatusCode': 200,\n",
       "  'HTTPHeaders': {'x-amzn-requestid': 'ab00e2a4-25b3-4d32-b770-fc4cea6d7111',\n",
       "   'content-type': 'application/x-amz-json-1.1',\n",
       "   'content-length': '407',\n",
       "   'date': 'Thu, 23 Aug 2018 11:41:47 GMT'},\n",
       "  'RetryAttempts': 0}}"
      ]
     },
     "execution_count": 17,
     "metadata": {},
     "output_type": "execute_result"
    }
   ],
   "source": [
    "client = boto3.client('sagemaker')\n",
    "    \n",
    "candidates = client.list_notebook_instances()\n",
    "candidates"
   ]
  },
  {
   "cell_type": "markdown",
   "metadata": {},
   "source": [
    "We want to find the name of the instance. It is used to send the stop and start commands"
   ]
  },
  {
   "cell_type": "code",
   "execution_count": 24,
   "metadata": {},
   "outputs": [
    {
     "data": {
      "text/plain": [
       "'fastai-with-efs'"
      ]
     },
     "execution_count": 24,
     "metadata": {},
     "output_type": "execute_result"
    }
   ],
   "source": [
    "for candidate in candidates['NotebookInstances']:\n",
    "    candidateName = candidate['NotebookInstanceName']\n",
    "\n",
    "candidateName"
   ]
  },
  {
   "cell_type": "markdown",
   "metadata": {},
   "source": [
    "To discover the tags of the notebook instances we need to know the ARN of each"
   ]
  },
  {
   "cell_type": "code",
   "execution_count": 30,
   "metadata": {},
   "outputs": [
    {
     "data": {
      "text/plain": [
       "[{'Key': 'Demo', 'Value': 'fastai'}]"
      ]
     },
     "execution_count": 30,
     "metadata": {},
     "output_type": "execute_result"
    }
   ],
   "source": [
    "instanceArn = candidate['NotebookInstanceArn']\n",
    "instanceTags = client.list_tags(ResourceArn=instanceArn)\n",
    "instanceTags['Tags']"
   ]
  },
  {
   "cell_type": "markdown",
   "metadata": {},
   "source": [
    "We will look for a tag with key of 'InDuty' and a value of 'Yes'"
   ]
  },
  {
   "cell_type": "code",
   "execution_count": 33,
   "metadata": {},
   "outputs": [],
   "source": [
    "for tag in instanceTags['Tags']:\n",
    "    if (tag['Key'] == 'InDuty' and tag['Value'] =='Yes'):\n",
    "        print(\"Found it\")"
   ]
  },
  {
   "cell_type": "markdown",
   "metadata": {},
   "source": [
    "Now we can connect it all together"
   ]
  },
  {
   "cell_type": "code",
   "execution_count": 35,
   "metadata": {},
   "outputs": [],
   "source": [
    "client = boto3.client('sagemaker')\n",
    "    \n",
    "candidates = client.list_notebook_instances()\n",
    "\n",
    "for candidate in candidates['NotebookInstances']:\n",
    "    candidateName = candidate['NotebookInstanceName']\n",
    "    logger.info('instance {0} is in Service'.format(candidateName))\n",
    "    instanceArn = candidate['NotebookInstanceArn']\n",
    "    instanceTags = client.list_tags(ResourceArn=instanceArn)\n",
    "    for tag in instanceTags['Tags']:\n",
    "        if (tag['Key'] == 'InDuty' and tag['Value'] =='Yes'):\n",
    "            logger.info('instance {0} is in duty'.format(candidateName))\n",
    "    #        response = client.stop_notebook_instance(NotebookInstanceName=candidateName)\n",
    "            logger.info('instance {0} was stopped'.format(candidateName))\n",
    "        else:\n",
    "            logger.info('Not in duty'.format(candidateName))\n"
   ]
  },
  {
   "cell_type": "markdown",
   "metadata": {},
   "source": [
    "# Creating a lambda function"
   ]
  },
  {
   "cell_type": "code",
   "execution_count": null,
   "metadata": {},
   "outputs": [],
   "source": []
  },
  {
   "cell_type": "markdown",
   "metadata": {},
   "source": [
    "# Creating IAM Role"
   ]
  },
  {
   "cell_type": "code",
   "execution_count": null,
   "metadata": {},
   "outputs": [],
   "source": []
  }
 ],
 "metadata": {
  "kernelspec": {
   "display_name": "conda_python3",
   "language": "python",
   "name": "conda_python3"
  },
  "language_info": {
   "codemirror_mode": {
    "name": "ipython",
    "version": 3
   },
   "file_extension": ".py",
   "mimetype": "text/x-python",
   "name": "python",
   "nbconvert_exporter": "python",
   "pygments_lexer": "ipython3",
   "version": "3.6.4"
  }
 },
 "nbformat": 4,
 "nbformat_minor": 2
}
